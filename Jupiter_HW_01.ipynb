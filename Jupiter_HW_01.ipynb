{
 "cells": [
  {
   "cell_type": "markdown",
   "id": "08af0d24",
   "metadata": {},
   "source": [
    "f(x) = 0.6x^3+5.5x^2+10x -5\n",
    "Определить корни\n",
    "Найти интервалы, на которых функция возрастает\n",
    "Найти интервалы, на которых функция убывает\n",
    "Построить график\n",
    "Вычислить вершину\n",
    "Определить промежутки, на котором f > 0\n",
    "Определить промежутки, на котором f < 0"
   ]
  },
  {
   "cell_type": "code",
   "execution_count": 1,
   "id": "4fd55e83",
   "metadata": {},
   "outputs": [],
   "source": [
    "from sympy import*\n",
    "\n",
    "a = 0.6\n",
    "b = 5.5\n",
    "c = 10\n",
    "d = -5\n",
    "\n",
    "x = Symbol('x')\n",
    "\n",
    "f_x = a * (x**3) + b*(x**2) + c*(x**1) - d"
   ]
  },
  {
   "cell_type": "code",
   "execution_count": 2,
   "id": "74cf3964",
   "metadata": {
    "scrolled": false
   },
   "outputs": [
    {
     "data": {
      "text/latex": [
       "$\\displaystyle 0.6 x^{3} + 5.5 x^{2} + 10 x + 5$"
      ],
      "text/plain": [
       "0.6*x**3 + 5.5*x**2 + 10*x + 5"
      ]
     },
     "execution_count": 2,
     "metadata": {},
     "output_type": "execute_result"
    }
   ],
   "source": [
    "f_x"
   ]
  },
  {
   "cell_type": "markdown",
   "id": "bbbf1eec",
   "metadata": {},
   "source": [
    "2. Определить корни"
   ]
  },
  {
   "cell_type": "code",
   "execution_count": 3,
   "id": "1ba318f9",
   "metadata": {
    "scrolled": false
   },
   "outputs": [
    {
     "name": "stdout",
     "output_type": "stream",
     "text": [
      "-6.93737263466156 + 1.32348898008484e-23*I\n",
      "-1.31766109399533 + 1.35525271560688e-20*I\n",
      "-0.911632938009772 + 1.35525271560688e-20*I\n"
     ]
    }
   ],
   "source": [
    "print(solve(f_x,x)[0].n())\n",
    "print(solve(f_x,x)[1].n())\n",
    "print(solve(f_x,x)[2].n())"
   ]
  },
  {
   "cell_type": "markdown",
   "id": "4413e61b",
   "metadata": {},
   "source": [
    "3. Найти интервалы, на которых функция возрастает"
   ]
  },
  {
   "cell_type": "code",
   "execution_count": 4,
   "id": "8b23b493",
   "metadata": {
    "scrolled": true
   },
   "outputs": [
    {
     "data": {
      "text/latex": [
       "$\\displaystyle 1.8 x^{2} + 11.0 x + 10$"
      ],
      "text/plain": [
       "1.8*x**2 + 11.0*x + 10"
      ]
     },
     "execution_count": 4,
     "metadata": {},
     "output_type": "execute_result"
    }
   ],
   "source": [
    "derivative = diff(f_x)\n",
    "derivative"
   ]
  },
  {
   "cell_type": "code",
   "execution_count": 5,
   "id": "cbe63388",
   "metadata": {
    "scrolled": false
   },
   "outputs": [
    {
     "data": {
      "text/latex": [
       "$\\displaystyle \\left(-1.11111111111111 < x \\wedge x < \\infty\\right) \\vee \\left(-\\infty < x \\wedge x < -5.0\\right)$"
      ],
      "text/plain": [
       "((-1.11111111111111 < x) & (x < oo)) | ((-oo < x) & (x < -5.0))"
      ]
     },
     "execution_count": 5,
     "metadata": {},
     "output_type": "execute_result"
    }
   ],
   "source": [
    "solve(derivative > 0,x)"
   ]
  },
  {
   "cell_type": "markdown",
   "id": "904e09e4",
   "metadata": {},
   "source": [
    "4. Найти интервалы, на которых функция убывает"
   ]
  },
  {
   "cell_type": "code",
   "execution_count": 6,
   "id": "5056a2eb",
   "metadata": {
    "scrolled": true
   },
   "outputs": [
    {
     "data": {
      "text/latex": [
       "$\\displaystyle -5.0 < x \\wedge x < -1.11111111111111$"
      ],
      "text/plain": [
       "(-5.0 < x) & (x < -1.11111111111111)"
      ]
     },
     "execution_count": 6,
     "metadata": {},
     "output_type": "execute_result"
    }
   ],
   "source": [
    "solve(derivative < 0,x)"
   ]
  },
  {
   "cell_type": "markdown",
   "id": "76e33d20",
   "metadata": {},
   "source": [
    "5. Построить график"
   ]
  },
  {
   "cell_type": "code",
   "execution_count": 7,
   "id": "f4c15822",
   "metadata": {
    "scrolled": false
   },
   "outputs": [
    {
     "data": {
      "image/png": "[encoded data removed]",
      "text/plain": [
       "<Figure size 640x480 with 1 Axes>"
      ]
     },
     "metadata": {},
     "output_type": "display_data"
    },
    {
     "data": {
      "text/plain": [
       "<sympy.plotting.plot.Plot at 0x7feb98078d90>"
      ]
     },
     "execution_count": 7,
     "metadata": {},
     "output_type": "execute_result"
    }
   ],
   "source": [
    "from sympy.plotting import plot\n",
    "\n",
    "g1 = plot(f_x,(x,-10,3), line_color = 'red', title = 'Graffik' )\n",
    "\n",
    "g1"
   ]
  },
  {
   "cell_type": "markdown",
   "id": "c0019a54",
   "metadata": {},
   "source": [
    "6. Вычислить вершину"
   ]
  },
  {
   "cell_type": "code",
   "execution_count": 8,
   "id": "c28d474e",
   "metadata": {
    "scrolled": true
   },
   "outputs": [
    {
     "name": "stdout",
     "output_type": "stream",
     "text": [
      "x =   -5.00000000000000\n",
      "x =   -1.11111111111111\n"
     ]
    }
   ],
   "source": [
    "print('x =  ',solve(derivative,x)[0].n())\n",
    "print('x =  ',solve(derivative,x)[1].n())\n"
   ]
  },
  {
   "cell_type": "markdown",
   "id": "a189dbbc",
   "metadata": {},
   "source": [
    "7. Определить промежутки, на котором f > 0"
   ]
  },
  {
   "cell_type": "code",
   "execution_count": 9,
   "id": "149221da",
   "metadata": {
    "scrolled": true
   },
   "outputs": [
    {
     "data": {
      "text/latex": [
       "$\\displaystyle \\left(-6.93737263466156 < x \\wedge x < -1.31766109399533\\right) \\vee \\left(-0.911632938009772 < x \\wedge x < \\infty\\right)$"
      ],
      "text/plain": [
       "((-6.93737263466156 < x) & (x < -1.31766109399533)) | ((-0.911632938009772 < x) & (x < oo))"
      ]
     },
     "execution_count": 9,
     "metadata": {},
     "output_type": "execute_result"
    }
   ],
   "source": [
    "solve(f_x > 0,x)"
   ]
  },
  {
   "cell_type": "markdown",
   "id": "313e0c4f",
   "metadata": {},
   "source": [
    "8. Определить промежутки, на котором f < 0"
   ]
  },
  {
   "cell_type": "code",
   "execution_count": 10,
   "id": "cba40ae8",
   "metadata": {
    "scrolled": true
   },
   "outputs": [
    {
     "data": {
      "text/latex": [
       "$\\displaystyle \\left(-1.31766109399533 < x \\wedge x < -0.911632938009772\\right) \\vee \\left(-\\infty < x \\wedge x < -6.93737263466156\\right)$"
      ],
      "text/plain": [
       "((-1.31766109399533 < x) & (x < -0.911632938009772)) | ((-oo < x) & (x < -6.93737263466156))"
      ]
     },
     "execution_count": 10,
     "metadata": {},
     "output_type": "execute_result"
    }
   ],
   "source": [
    "solve(f_x < 0,x)"
   ]
  }
 ],
 "metadata": {
  "kernelspec": {
   "display_name": "Python 3 (ipykernel)",
   "language": "python",
   "name": "python3"
  },
  "language_info": {
   "codemirror_mode": {
    "name": "ipython",
    "version": 3
   },
   "file_extension": ".py",
   "mimetype": "text/x-python",
   "name": "python",
   "nbconvert_exporter": "python",
   "pygments_lexer": "ipython3",
   "version": "3.10.7 (v3.10.7:6cc6b13308, Sep  5 2022, 14:02:52) [Clang 13.0.0 (clang-1300.0.29.30)]"
  },
  "vscode": {
   "interpreter": {
    "hash": "aee8b7b246df8f9039afb4144a1f6fd8d2ca17a180786b69acc140d282b71a49"
   }
  }
 },
 "nbformat": 4,
 "nbformat_minor": 5
}
